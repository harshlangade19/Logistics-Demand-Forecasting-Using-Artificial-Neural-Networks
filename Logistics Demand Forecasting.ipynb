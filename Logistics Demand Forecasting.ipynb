{
 "cells": [
  {
   "cell_type": "code",
   "execution_count": 138,
   "id": "29f145d9",
   "metadata": {},
   "outputs": [],
   "source": [
    "import numpy as np\n",
    "import pandas as pd\n",
    "import matplotlib.pyplot as plt\n",
    "import seaborn as sns\n",
    "import tensorflow as tf\n",
    "import math"
   ]
  },
  {
   "cell_type": "code",
   "execution_count": 139,
   "id": "101b9ed1",
   "metadata": {},
   "outputs": [],
   "source": [
    "data = pd.read_csv('https://raw.githubusercontent.com/shreyas-jk/Product-Demand-Forecasting-Using-ML/main/data.csv')"
   ]
  },
  {
   "cell_type": "markdown",
   "id": "17b6355f",
   "metadata": {},
   "source": [
    "# Exploratory Data Analysis"
   ]
  },
  {
   "cell_type": "code",
   "execution_count": 140,
   "id": "3e3e06dc",
   "metadata": {},
   "outputs": [
    {
     "data": {
      "text/html": [
       "<div>\n",
       "<style scoped>\n",
       "    .dataframe tbody tr th:only-of-type {\n",
       "        vertical-align: middle;\n",
       "    }\n",
       "\n",
       "    .dataframe tbody tr th {\n",
       "        vertical-align: top;\n",
       "    }\n",
       "\n",
       "    .dataframe thead th {\n",
       "        text-align: right;\n",
       "    }\n",
       "</style>\n",
       "<table border=\"1\" class=\"dataframe\">\n",
       "  <thead>\n",
       "    <tr style=\"text-align: right;\">\n",
       "      <th></th>\n",
       "      <th>record_ID</th>\n",
       "      <th>week</th>\n",
       "      <th>store_id</th>\n",
       "      <th>sku_id</th>\n",
       "      <th>total_price</th>\n",
       "      <th>base_price</th>\n",
       "      <th>is_featured_sku</th>\n",
       "      <th>is_display_sku</th>\n",
       "      <th>units_sold</th>\n",
       "    </tr>\n",
       "  </thead>\n",
       "  <tbody>\n",
       "    <tr>\n",
       "      <th>0</th>\n",
       "      <td>1</td>\n",
       "      <td>17/01/11</td>\n",
       "      <td>8091</td>\n",
       "      <td>216418</td>\n",
       "      <td>99.0375</td>\n",
       "      <td>111.8625</td>\n",
       "      <td>0</td>\n",
       "      <td>0</td>\n",
       "      <td>20</td>\n",
       "    </tr>\n",
       "    <tr>\n",
       "      <th>1</th>\n",
       "      <td>2</td>\n",
       "      <td>17/01/11</td>\n",
       "      <td>8091</td>\n",
       "      <td>216419</td>\n",
       "      <td>99.0375</td>\n",
       "      <td>99.0375</td>\n",
       "      <td>0</td>\n",
       "      <td>0</td>\n",
       "      <td>28</td>\n",
       "    </tr>\n",
       "    <tr>\n",
       "      <th>2</th>\n",
       "      <td>3</td>\n",
       "      <td>17/01/11</td>\n",
       "      <td>8091</td>\n",
       "      <td>216425</td>\n",
       "      <td>133.9500</td>\n",
       "      <td>133.9500</td>\n",
       "      <td>0</td>\n",
       "      <td>0</td>\n",
       "      <td>19</td>\n",
       "    </tr>\n",
       "    <tr>\n",
       "      <th>3</th>\n",
       "      <td>4</td>\n",
       "      <td>17/01/11</td>\n",
       "      <td>8091</td>\n",
       "      <td>216233</td>\n",
       "      <td>133.9500</td>\n",
       "      <td>133.9500</td>\n",
       "      <td>0</td>\n",
       "      <td>0</td>\n",
       "      <td>44</td>\n",
       "    </tr>\n",
       "    <tr>\n",
       "      <th>4</th>\n",
       "      <td>5</td>\n",
       "      <td>17/01/11</td>\n",
       "      <td>8091</td>\n",
       "      <td>217390</td>\n",
       "      <td>141.0750</td>\n",
       "      <td>141.0750</td>\n",
       "      <td>0</td>\n",
       "      <td>0</td>\n",
       "      <td>52</td>\n",
       "    </tr>\n",
       "  </tbody>\n",
       "</table>\n",
       "</div>"
      ],
      "text/plain": [
       "   record_ID      week  store_id  sku_id  total_price  base_price  \\\n",
       "0          1  17/01/11      8091  216418      99.0375    111.8625   \n",
       "1          2  17/01/11      8091  216419      99.0375     99.0375   \n",
       "2          3  17/01/11      8091  216425     133.9500    133.9500   \n",
       "3          4  17/01/11      8091  216233     133.9500    133.9500   \n",
       "4          5  17/01/11      8091  217390     141.0750    141.0750   \n",
       "\n",
       "   is_featured_sku  is_display_sku  units_sold  \n",
       "0                0               0          20  \n",
       "1                0               0          28  \n",
       "2                0               0          19  \n",
       "3                0               0          44  \n",
       "4                0               0          52  "
      ]
     },
     "execution_count": 140,
     "metadata": {},
     "output_type": "execute_result"
    }
   ],
   "source": [
    "data.head()"
   ]
  },
  {
   "cell_type": "code",
   "execution_count": 141,
   "id": "9d4222bb",
   "metadata": {},
   "outputs": [
    {
     "name": "stdout",
     "output_type": "stream",
     "text": [
      "<class 'pandas.core.frame.DataFrame'>\n",
      "RangeIndex: 150150 entries, 0 to 150149\n",
      "Data columns (total 9 columns):\n",
      " #   Column           Non-Null Count   Dtype  \n",
      "---  ------           --------------   -----  \n",
      " 0   record_ID        150150 non-null  int64  \n",
      " 1   week             150150 non-null  object \n",
      " 2   store_id         150150 non-null  int64  \n",
      " 3   sku_id           150150 non-null  int64  \n",
      " 4   total_price      150149 non-null  float64\n",
      " 5   base_price       150150 non-null  float64\n",
      " 6   is_featured_sku  150150 non-null  int64  \n",
      " 7   is_display_sku   150150 non-null  int64  \n",
      " 8   units_sold       150150 non-null  int64  \n",
      "dtypes: float64(2), int64(6), object(1)\n",
      "memory usage: 10.3+ MB\n"
     ]
    }
   ],
   "source": [
    "data.info()"
   ]
  },
  {
   "cell_type": "code",
   "execution_count": 142,
   "id": "5b225f7d",
   "metadata": {},
   "outputs": [
    {
     "data": {
      "text/html": [
       "<div>\n",
       "<style scoped>\n",
       "    .dataframe tbody tr th:only-of-type {\n",
       "        vertical-align: middle;\n",
       "    }\n",
       "\n",
       "    .dataframe tbody tr th {\n",
       "        vertical-align: top;\n",
       "    }\n",
       "\n",
       "    .dataframe thead th {\n",
       "        text-align: right;\n",
       "    }\n",
       "</style>\n",
       "<table border=\"1\" class=\"dataframe\">\n",
       "  <thead>\n",
       "    <tr style=\"text-align: right;\">\n",
       "      <th></th>\n",
       "      <th>record_ID</th>\n",
       "      <th>store_id</th>\n",
       "      <th>sku_id</th>\n",
       "      <th>total_price</th>\n",
       "      <th>base_price</th>\n",
       "      <th>is_featured_sku</th>\n",
       "      <th>is_display_sku</th>\n",
       "      <th>units_sold</th>\n",
       "    </tr>\n",
       "  </thead>\n",
       "  <tbody>\n",
       "    <tr>\n",
       "      <th>count</th>\n",
       "      <td>150150.000000</td>\n",
       "      <td>150150.000000</td>\n",
       "      <td>150150.000000</td>\n",
       "      <td>150149.000000</td>\n",
       "      <td>150150.000000</td>\n",
       "      <td>150150.000000</td>\n",
       "      <td>150150.000000</td>\n",
       "      <td>150150.000000</td>\n",
       "    </tr>\n",
       "    <tr>\n",
       "      <th>mean</th>\n",
       "      <td>106271.555504</td>\n",
       "      <td>9199.422511</td>\n",
       "      <td>254761.132468</td>\n",
       "      <td>206.626751</td>\n",
       "      <td>219.425927</td>\n",
       "      <td>0.095611</td>\n",
       "      <td>0.133200</td>\n",
       "      <td>51.674206</td>\n",
       "    </tr>\n",
       "    <tr>\n",
       "      <th>std</th>\n",
       "      <td>61386.037861</td>\n",
       "      <td>615.591445</td>\n",
       "      <td>85547.306447</td>\n",
       "      <td>103.308516</td>\n",
       "      <td>110.961712</td>\n",
       "      <td>0.294058</td>\n",
       "      <td>0.339792</td>\n",
       "      <td>60.207904</td>\n",
       "    </tr>\n",
       "    <tr>\n",
       "      <th>min</th>\n",
       "      <td>1.000000</td>\n",
       "      <td>8023.000000</td>\n",
       "      <td>216233.000000</td>\n",
       "      <td>41.325000</td>\n",
       "      <td>61.275000</td>\n",
       "      <td>0.000000</td>\n",
       "      <td>0.000000</td>\n",
       "      <td>1.000000</td>\n",
       "    </tr>\n",
       "    <tr>\n",
       "      <th>25%</th>\n",
       "      <td>53111.250000</td>\n",
       "      <td>8562.000000</td>\n",
       "      <td>217217.000000</td>\n",
       "      <td>130.387500</td>\n",
       "      <td>133.237500</td>\n",
       "      <td>0.000000</td>\n",
       "      <td>0.000000</td>\n",
       "      <td>20.000000</td>\n",
       "    </tr>\n",
       "    <tr>\n",
       "      <th>50%</th>\n",
       "      <td>106226.500000</td>\n",
       "      <td>9371.000000</td>\n",
       "      <td>222087.000000</td>\n",
       "      <td>198.075000</td>\n",
       "      <td>205.912500</td>\n",
       "      <td>0.000000</td>\n",
       "      <td>0.000000</td>\n",
       "      <td>35.000000</td>\n",
       "    </tr>\n",
       "    <tr>\n",
       "      <th>75%</th>\n",
       "      <td>159452.750000</td>\n",
       "      <td>9731.000000</td>\n",
       "      <td>245338.000000</td>\n",
       "      <td>233.700000</td>\n",
       "      <td>234.412500</td>\n",
       "      <td>0.000000</td>\n",
       "      <td>0.000000</td>\n",
       "      <td>62.000000</td>\n",
       "    </tr>\n",
       "    <tr>\n",
       "      <th>max</th>\n",
       "      <td>212644.000000</td>\n",
       "      <td>9984.000000</td>\n",
       "      <td>679023.000000</td>\n",
       "      <td>562.162500</td>\n",
       "      <td>562.162500</td>\n",
       "      <td>1.000000</td>\n",
       "      <td>1.000000</td>\n",
       "      <td>2876.000000</td>\n",
       "    </tr>\n",
       "  </tbody>\n",
       "</table>\n",
       "</div>"
      ],
      "text/plain": [
       "           record_ID       store_id         sku_id    total_price  \\\n",
       "count  150150.000000  150150.000000  150150.000000  150149.000000   \n",
       "mean   106271.555504    9199.422511  254761.132468     206.626751   \n",
       "std     61386.037861     615.591445   85547.306447     103.308516   \n",
       "min         1.000000    8023.000000  216233.000000      41.325000   \n",
       "25%     53111.250000    8562.000000  217217.000000     130.387500   \n",
       "50%    106226.500000    9371.000000  222087.000000     198.075000   \n",
       "75%    159452.750000    9731.000000  245338.000000     233.700000   \n",
       "max    212644.000000    9984.000000  679023.000000     562.162500   \n",
       "\n",
       "          base_price  is_featured_sku  is_display_sku     units_sold  \n",
       "count  150150.000000    150150.000000   150150.000000  150150.000000  \n",
       "mean      219.425927         0.095611        0.133200      51.674206  \n",
       "std       110.961712         0.294058        0.339792      60.207904  \n",
       "min        61.275000         0.000000        0.000000       1.000000  \n",
       "25%       133.237500         0.000000        0.000000      20.000000  \n",
       "50%       205.912500         0.000000        0.000000      35.000000  \n",
       "75%       234.412500         0.000000        0.000000      62.000000  \n",
       "max       562.162500         1.000000        1.000000    2876.000000  "
      ]
     },
     "execution_count": 142,
     "metadata": {},
     "output_type": "execute_result"
    }
   ],
   "source": [
    "data.describe()"
   ]
  },
  {
   "cell_type": "code",
   "execution_count": 143,
   "id": "c67d7f9c",
   "metadata": {},
   "outputs": [
    {
     "data": {
      "text/plain": [
       "record_ID          0\n",
       "week               0\n",
       "store_id           0\n",
       "sku_id             0\n",
       "total_price        1\n",
       "base_price         0\n",
       "is_featured_sku    0\n",
       "is_display_sku     0\n",
       "units_sold         0\n",
       "dtype: int64"
      ]
     },
     "execution_count": 143,
     "metadata": {},
     "output_type": "execute_result"
    }
   ],
   "source": [
    "data.isnull().sum()"
   ]
  },
  {
   "cell_type": "code",
   "execution_count": 144,
   "id": "ea63e2a4",
   "metadata": {},
   "outputs": [],
   "source": [
    "null_index = data[data['total_price'].isnull()].index.tolist()"
   ]
  },
  {
   "cell_type": "code",
   "execution_count": 145,
   "id": "ad108609",
   "metadata": {},
   "outputs": [
    {
     "data": {
      "text/plain": [
       "[136949]"
      ]
     },
     "execution_count": 145,
     "metadata": {},
     "output_type": "execute_result"
    }
   ],
   "source": [
    "null_index"
   ]
  },
  {
   "cell_type": "code",
   "execution_count": 146,
   "id": "065b7516",
   "metadata": {},
   "outputs": [
    {
     "name": "stdout",
     "output_type": "stream",
     "text": [
      "        record_ID      week  store_id  sku_id  total_price  base_price  \\\n",
      "136949     193915  23/04/13      9436  245338          NaN    469.5375   \n",
      "\n",
      "        is_featured_sku  is_display_sku  units_sold  \n",
      "136949                0               0           1  \n"
     ]
    }
   ],
   "source": [
    "print(data.iloc[[136949]])"
   ]
  },
  {
   "cell_type": "code",
   "execution_count": 147,
   "id": "b01a7698",
   "metadata": {},
   "outputs": [],
   "source": [
    "data.drop([136949],inplace=True)"
   ]
  },
  {
   "cell_type": "code",
   "execution_count": 148,
   "id": "cf027604",
   "metadata": {},
   "outputs": [],
   "source": [
    "data = data.drop(['record_ID','store_id','sku_id','is_featured_sku', 'is_display_sku'],axis=1)"
   ]
  },
  {
   "cell_type": "code",
   "execution_count": 149,
   "id": "498e2c28",
   "metadata": {},
   "outputs": [
    {
     "data": {
      "text/html": [
       "<div>\n",
       "<style scoped>\n",
       "    .dataframe tbody tr th:only-of-type {\n",
       "        vertical-align: middle;\n",
       "    }\n",
       "\n",
       "    .dataframe tbody tr th {\n",
       "        vertical-align: top;\n",
       "    }\n",
       "\n",
       "    .dataframe thead th {\n",
       "        text-align: right;\n",
       "    }\n",
       "</style>\n",
       "<table border=\"1\" class=\"dataframe\">\n",
       "  <thead>\n",
       "    <tr style=\"text-align: right;\">\n",
       "      <th></th>\n",
       "      <th>week</th>\n",
       "      <th>total_price</th>\n",
       "      <th>base_price</th>\n",
       "      <th>units_sold</th>\n",
       "    </tr>\n",
       "  </thead>\n",
       "  <tbody>\n",
       "    <tr>\n",
       "      <th>0</th>\n",
       "      <td>17/01/11</td>\n",
       "      <td>99.0375</td>\n",
       "      <td>111.8625</td>\n",
       "      <td>20</td>\n",
       "    </tr>\n",
       "    <tr>\n",
       "      <th>1</th>\n",
       "      <td>17/01/11</td>\n",
       "      <td>99.0375</td>\n",
       "      <td>99.0375</td>\n",
       "      <td>28</td>\n",
       "    </tr>\n",
       "    <tr>\n",
       "      <th>2</th>\n",
       "      <td>17/01/11</td>\n",
       "      <td>133.9500</td>\n",
       "      <td>133.9500</td>\n",
       "      <td>19</td>\n",
       "    </tr>\n",
       "    <tr>\n",
       "      <th>3</th>\n",
       "      <td>17/01/11</td>\n",
       "      <td>133.9500</td>\n",
       "      <td>133.9500</td>\n",
       "      <td>44</td>\n",
       "    </tr>\n",
       "    <tr>\n",
       "      <th>4</th>\n",
       "      <td>17/01/11</td>\n",
       "      <td>141.0750</td>\n",
       "      <td>141.0750</td>\n",
       "      <td>52</td>\n",
       "    </tr>\n",
       "    <tr>\n",
       "      <th>...</th>\n",
       "      <td>...</td>\n",
       "      <td>...</td>\n",
       "      <td>...</td>\n",
       "      <td>...</td>\n",
       "    </tr>\n",
       "    <tr>\n",
       "      <th>150145</th>\n",
       "      <td>09/07/13</td>\n",
       "      <td>235.8375</td>\n",
       "      <td>235.8375</td>\n",
       "      <td>38</td>\n",
       "    </tr>\n",
       "    <tr>\n",
       "      <th>150146</th>\n",
       "      <td>09/07/13</td>\n",
       "      <td>235.8375</td>\n",
       "      <td>235.8375</td>\n",
       "      <td>30</td>\n",
       "    </tr>\n",
       "    <tr>\n",
       "      <th>150147</th>\n",
       "      <td>09/07/13</td>\n",
       "      <td>357.6750</td>\n",
       "      <td>483.7875</td>\n",
       "      <td>31</td>\n",
       "    </tr>\n",
       "    <tr>\n",
       "      <th>150148</th>\n",
       "      <td>09/07/13</td>\n",
       "      <td>141.7875</td>\n",
       "      <td>191.6625</td>\n",
       "      <td>12</td>\n",
       "    </tr>\n",
       "    <tr>\n",
       "      <th>150149</th>\n",
       "      <td>09/07/13</td>\n",
       "      <td>234.4125</td>\n",
       "      <td>234.4125</td>\n",
       "      <td>15</td>\n",
       "    </tr>\n",
       "  </tbody>\n",
       "</table>\n",
       "<p>150149 rows × 4 columns</p>\n",
       "</div>"
      ],
      "text/plain": [
       "            week  total_price  base_price  units_sold\n",
       "0       17/01/11      99.0375    111.8625          20\n",
       "1       17/01/11      99.0375     99.0375          28\n",
       "2       17/01/11     133.9500    133.9500          19\n",
       "3       17/01/11     133.9500    133.9500          44\n",
       "4       17/01/11     141.0750    141.0750          52\n",
       "...          ...          ...         ...         ...\n",
       "150145  09/07/13     235.8375    235.8375          38\n",
       "150146  09/07/13     235.8375    235.8375          30\n",
       "150147  09/07/13     357.6750    483.7875          31\n",
       "150148  09/07/13     141.7875    191.6625          12\n",
       "150149  09/07/13     234.4125    234.4125          15\n",
       "\n",
       "[150149 rows x 4 columns]"
      ]
     },
     "execution_count": 149,
     "metadata": {},
     "output_type": "execute_result"
    }
   ],
   "source": [
    "data"
   ]
  },
  {
   "cell_type": "code",
   "execution_count": 150,
   "id": "797acdc2",
   "metadata": {},
   "outputs": [],
   "source": [
    "\n",
    "data[[\"day\", \"month\", \"year\"]] = data[\"week\"].str.split(\"/\", expand = True)\n",
    "data = data.drop(['week'],axis=1)"
   ]
  },
  {
   "cell_type": "code",
   "execution_count": 151,
   "id": "30adc729",
   "metadata": {},
   "outputs": [
    {
     "data": {
      "text/html": [
       "<div>\n",
       "<style scoped>\n",
       "    .dataframe tbody tr th:only-of-type {\n",
       "        vertical-align: middle;\n",
       "    }\n",
       "\n",
       "    .dataframe tbody tr th {\n",
       "        vertical-align: top;\n",
       "    }\n",
       "\n",
       "    .dataframe thead th {\n",
       "        text-align: right;\n",
       "    }\n",
       "</style>\n",
       "<table border=\"1\" class=\"dataframe\">\n",
       "  <thead>\n",
       "    <tr style=\"text-align: right;\">\n",
       "      <th></th>\n",
       "      <th>total_price</th>\n",
       "      <th>base_price</th>\n",
       "      <th>units_sold</th>\n",
       "      <th>day</th>\n",
       "      <th>month</th>\n",
       "      <th>year</th>\n",
       "    </tr>\n",
       "  </thead>\n",
       "  <tbody>\n",
       "    <tr>\n",
       "      <th>0</th>\n",
       "      <td>99.0375</td>\n",
       "      <td>111.8625</td>\n",
       "      <td>20</td>\n",
       "      <td>17</td>\n",
       "      <td>1</td>\n",
       "      <td>11</td>\n",
       "    </tr>\n",
       "    <tr>\n",
       "      <th>1</th>\n",
       "      <td>99.0375</td>\n",
       "      <td>99.0375</td>\n",
       "      <td>28</td>\n",
       "      <td>17</td>\n",
       "      <td>1</td>\n",
       "      <td>11</td>\n",
       "    </tr>\n",
       "    <tr>\n",
       "      <th>2</th>\n",
       "      <td>133.9500</td>\n",
       "      <td>133.9500</td>\n",
       "      <td>19</td>\n",
       "      <td>17</td>\n",
       "      <td>1</td>\n",
       "      <td>11</td>\n",
       "    </tr>\n",
       "    <tr>\n",
       "      <th>3</th>\n",
       "      <td>133.9500</td>\n",
       "      <td>133.9500</td>\n",
       "      <td>44</td>\n",
       "      <td>17</td>\n",
       "      <td>1</td>\n",
       "      <td>11</td>\n",
       "    </tr>\n",
       "    <tr>\n",
       "      <th>4</th>\n",
       "      <td>141.0750</td>\n",
       "      <td>141.0750</td>\n",
       "      <td>52</td>\n",
       "      <td>17</td>\n",
       "      <td>1</td>\n",
       "      <td>11</td>\n",
       "    </tr>\n",
       "    <tr>\n",
       "      <th>...</th>\n",
       "      <td>...</td>\n",
       "      <td>...</td>\n",
       "      <td>...</td>\n",
       "      <td>...</td>\n",
       "      <td>...</td>\n",
       "      <td>...</td>\n",
       "    </tr>\n",
       "    <tr>\n",
       "      <th>150145</th>\n",
       "      <td>235.8375</td>\n",
       "      <td>235.8375</td>\n",
       "      <td>38</td>\n",
       "      <td>9</td>\n",
       "      <td>7</td>\n",
       "      <td>13</td>\n",
       "    </tr>\n",
       "    <tr>\n",
       "      <th>150146</th>\n",
       "      <td>235.8375</td>\n",
       "      <td>235.8375</td>\n",
       "      <td>30</td>\n",
       "      <td>9</td>\n",
       "      <td>7</td>\n",
       "      <td>13</td>\n",
       "    </tr>\n",
       "    <tr>\n",
       "      <th>150147</th>\n",
       "      <td>357.6750</td>\n",
       "      <td>483.7875</td>\n",
       "      <td>31</td>\n",
       "      <td>9</td>\n",
       "      <td>7</td>\n",
       "      <td>13</td>\n",
       "    </tr>\n",
       "    <tr>\n",
       "      <th>150148</th>\n",
       "      <td>141.7875</td>\n",
       "      <td>191.6625</td>\n",
       "      <td>12</td>\n",
       "      <td>9</td>\n",
       "      <td>7</td>\n",
       "      <td>13</td>\n",
       "    </tr>\n",
       "    <tr>\n",
       "      <th>150149</th>\n",
       "      <td>234.4125</td>\n",
       "      <td>234.4125</td>\n",
       "      <td>15</td>\n",
       "      <td>9</td>\n",
       "      <td>7</td>\n",
       "      <td>13</td>\n",
       "    </tr>\n",
       "  </tbody>\n",
       "</table>\n",
       "<p>150149 rows × 6 columns</p>\n",
       "</div>"
      ],
      "text/plain": [
       "        total_price  base_price  units_sold  day  month  year\n",
       "0           99.0375    111.8625          20   17      1    11\n",
       "1           99.0375     99.0375          28   17      1    11\n",
       "2          133.9500    133.9500          19   17      1    11\n",
       "3          133.9500    133.9500          44   17      1    11\n",
       "4          141.0750    141.0750          52   17      1    11\n",
       "...             ...         ...         ...  ...    ...   ...\n",
       "150145     235.8375    235.8375          38    9      7    13\n",
       "150146     235.8375    235.8375          30    9      7    13\n",
       "150147     357.6750    483.7875          31    9      7    13\n",
       "150148     141.7875    191.6625          12    9      7    13\n",
       "150149     234.4125    234.4125          15    9      7    13\n",
       "\n",
       "[150149 rows x 6 columns]"
      ]
     },
     "execution_count": 151,
     "metadata": {},
     "output_type": "execute_result"
    }
   ],
   "source": [
    "data['day'] = pd.to_numeric(data['day'],errors='coerce')\n",
    "data['month'] = pd.to_numeric(data['month'],errors='coerce')\n",
    "data['year'] = pd.to_numeric(data['year'],errors='coerce')\n",
    "data"
   ]
  },
  {
   "cell_type": "code",
   "execution_count": 152,
   "id": "2aa5e8f3",
   "metadata": {},
   "outputs": [
    {
     "name": "stdout",
     "output_type": "stream",
     "text": [
      "<class 'pandas.core.frame.DataFrame'>\n",
      "Int64Index: 150149 entries, 0 to 150149\n",
      "Data columns (total 6 columns):\n",
      " #   Column       Non-Null Count   Dtype  \n",
      "---  ------       --------------   -----  \n",
      " 0   total_price  150149 non-null  float64\n",
      " 1   base_price   150149 non-null  float64\n",
      " 2   units_sold   150149 non-null  int64  \n",
      " 3   day          150149 non-null  int64  \n",
      " 4   month        150149 non-null  int64  \n",
      " 5   year         150149 non-null  int64  \n",
      "dtypes: float64(2), int64(4)\n",
      "memory usage: 8.0 MB\n"
     ]
    }
   ],
   "source": [
    "data.info()"
   ]
  },
  {
   "cell_type": "code",
   "execution_count": 153,
   "id": "af04f513",
   "metadata": {},
   "outputs": [],
   "source": [
    "data['demand'] = data['units_sold']\n",
    "data = data.drop(['units_sold'],axis=1)\n"
   ]
  },
  {
   "cell_type": "code",
   "execution_count": 154,
   "id": "d6c92bdb",
   "metadata": {},
   "outputs": [],
   "source": [
    "data['day_1'] = data['demand'].shift(-1)\n",
    "data['day_2'] = data['demand'].shift(-2)\n",
    "data['day_3'] = data['demand'].shift(-3)\n",
    "data['day_4'] = data['demand'].shift(-4)\n",
    "data['day_5'] = data['demand'].shift(-5)\n",
    "data['day_6'] = data['demand'].shift(-6)\n",
    "data['day_7'] = data['demand'].shift(-7)\n",
    "data['day_8'] = data['demand'].shift(-8)\n",
    "data['day_9'] = data['demand'].shift(-9)\n",
    "data['day_10'] = data['demand'].shift(-10)\n"
   ]
  },
  {
   "cell_type": "code",
   "execution_count": 155,
   "id": "f92143ab",
   "metadata": {},
   "outputs": [
    {
     "data": {
      "text/html": [
       "<div>\n",
       "<style scoped>\n",
       "    .dataframe tbody tr th:only-of-type {\n",
       "        vertical-align: middle;\n",
       "    }\n",
       "\n",
       "    .dataframe tbody tr th {\n",
       "        vertical-align: top;\n",
       "    }\n",
       "\n",
       "    .dataframe thead th {\n",
       "        text-align: right;\n",
       "    }\n",
       "</style>\n",
       "<table border=\"1\" class=\"dataframe\">\n",
       "  <thead>\n",
       "    <tr style=\"text-align: right;\">\n",
       "      <th></th>\n",
       "      <th>total_price</th>\n",
       "      <th>base_price</th>\n",
       "      <th>day</th>\n",
       "      <th>month</th>\n",
       "      <th>year</th>\n",
       "      <th>demand</th>\n",
       "      <th>day_1</th>\n",
       "      <th>day_2</th>\n",
       "      <th>day_3</th>\n",
       "      <th>day_4</th>\n",
       "      <th>day_5</th>\n",
       "      <th>day_6</th>\n",
       "      <th>day_7</th>\n",
       "      <th>day_8</th>\n",
       "      <th>day_9</th>\n",
       "      <th>day_10</th>\n",
       "    </tr>\n",
       "  </thead>\n",
       "  <tbody>\n",
       "    <tr>\n",
       "      <th>0</th>\n",
       "      <td>99.0375</td>\n",
       "      <td>111.8625</td>\n",
       "      <td>17</td>\n",
       "      <td>1</td>\n",
       "      <td>11</td>\n",
       "      <td>20</td>\n",
       "      <td>28.0</td>\n",
       "      <td>19.0</td>\n",
       "      <td>44.0</td>\n",
       "      <td>52.0</td>\n",
       "      <td>18.0</td>\n",
       "      <td>47.0</td>\n",
       "      <td>50.0</td>\n",
       "      <td>82.0</td>\n",
       "      <td>99.0</td>\n",
       "      <td>120.0</td>\n",
       "    </tr>\n",
       "    <tr>\n",
       "      <th>1</th>\n",
       "      <td>99.0375</td>\n",
       "      <td>99.0375</td>\n",
       "      <td>17</td>\n",
       "      <td>1</td>\n",
       "      <td>11</td>\n",
       "      <td>28</td>\n",
       "      <td>19.0</td>\n",
       "      <td>44.0</td>\n",
       "      <td>52.0</td>\n",
       "      <td>18.0</td>\n",
       "      <td>47.0</td>\n",
       "      <td>50.0</td>\n",
       "      <td>82.0</td>\n",
       "      <td>99.0</td>\n",
       "      <td>120.0</td>\n",
       "      <td>40.0</td>\n",
       "    </tr>\n",
       "    <tr>\n",
       "      <th>2</th>\n",
       "      <td>133.9500</td>\n",
       "      <td>133.9500</td>\n",
       "      <td>17</td>\n",
       "      <td>1</td>\n",
       "      <td>11</td>\n",
       "      <td>19</td>\n",
       "      <td>44.0</td>\n",
       "      <td>52.0</td>\n",
       "      <td>18.0</td>\n",
       "      <td>47.0</td>\n",
       "      <td>50.0</td>\n",
       "      <td>82.0</td>\n",
       "      <td>99.0</td>\n",
       "      <td>120.0</td>\n",
       "      <td>40.0</td>\n",
       "      <td>68.0</td>\n",
       "    </tr>\n",
       "    <tr>\n",
       "      <th>3</th>\n",
       "      <td>133.9500</td>\n",
       "      <td>133.9500</td>\n",
       "      <td>17</td>\n",
       "      <td>1</td>\n",
       "      <td>11</td>\n",
       "      <td>44</td>\n",
       "      <td>52.0</td>\n",
       "      <td>18.0</td>\n",
       "      <td>47.0</td>\n",
       "      <td>50.0</td>\n",
       "      <td>82.0</td>\n",
       "      <td>99.0</td>\n",
       "      <td>120.0</td>\n",
       "      <td>40.0</td>\n",
       "      <td>68.0</td>\n",
       "      <td>87.0</td>\n",
       "    </tr>\n",
       "    <tr>\n",
       "      <th>4</th>\n",
       "      <td>141.0750</td>\n",
       "      <td>141.0750</td>\n",
       "      <td>17</td>\n",
       "      <td>1</td>\n",
       "      <td>11</td>\n",
       "      <td>52</td>\n",
       "      <td>18.0</td>\n",
       "      <td>47.0</td>\n",
       "      <td>50.0</td>\n",
       "      <td>82.0</td>\n",
       "      <td>99.0</td>\n",
       "      <td>120.0</td>\n",
       "      <td>40.0</td>\n",
       "      <td>68.0</td>\n",
       "      <td>87.0</td>\n",
       "      <td>186.0</td>\n",
       "    </tr>\n",
       "    <tr>\n",
       "      <th>...</th>\n",
       "      <td>...</td>\n",
       "      <td>...</td>\n",
       "      <td>...</td>\n",
       "      <td>...</td>\n",
       "      <td>...</td>\n",
       "      <td>...</td>\n",
       "      <td>...</td>\n",
       "      <td>...</td>\n",
       "      <td>...</td>\n",
       "      <td>...</td>\n",
       "      <td>...</td>\n",
       "      <td>...</td>\n",
       "      <td>...</td>\n",
       "      <td>...</td>\n",
       "      <td>...</td>\n",
       "      <td>...</td>\n",
       "    </tr>\n",
       "    <tr>\n",
       "      <th>150145</th>\n",
       "      <td>235.8375</td>\n",
       "      <td>235.8375</td>\n",
       "      <td>9</td>\n",
       "      <td>7</td>\n",
       "      <td>13</td>\n",
       "      <td>38</td>\n",
       "      <td>30.0</td>\n",
       "      <td>31.0</td>\n",
       "      <td>12.0</td>\n",
       "      <td>15.0</td>\n",
       "      <td>NaN</td>\n",
       "      <td>NaN</td>\n",
       "      <td>NaN</td>\n",
       "      <td>NaN</td>\n",
       "      <td>NaN</td>\n",
       "      <td>NaN</td>\n",
       "    </tr>\n",
       "    <tr>\n",
       "      <th>150146</th>\n",
       "      <td>235.8375</td>\n",
       "      <td>235.8375</td>\n",
       "      <td>9</td>\n",
       "      <td>7</td>\n",
       "      <td>13</td>\n",
       "      <td>30</td>\n",
       "      <td>31.0</td>\n",
       "      <td>12.0</td>\n",
       "      <td>15.0</td>\n",
       "      <td>NaN</td>\n",
       "      <td>NaN</td>\n",
       "      <td>NaN</td>\n",
       "      <td>NaN</td>\n",
       "      <td>NaN</td>\n",
       "      <td>NaN</td>\n",
       "      <td>NaN</td>\n",
       "    </tr>\n",
       "    <tr>\n",
       "      <th>150147</th>\n",
       "      <td>357.6750</td>\n",
       "      <td>483.7875</td>\n",
       "      <td>9</td>\n",
       "      <td>7</td>\n",
       "      <td>13</td>\n",
       "      <td>31</td>\n",
       "      <td>12.0</td>\n",
       "      <td>15.0</td>\n",
       "      <td>NaN</td>\n",
       "      <td>NaN</td>\n",
       "      <td>NaN</td>\n",
       "      <td>NaN</td>\n",
       "      <td>NaN</td>\n",
       "      <td>NaN</td>\n",
       "      <td>NaN</td>\n",
       "      <td>NaN</td>\n",
       "    </tr>\n",
       "    <tr>\n",
       "      <th>150148</th>\n",
       "      <td>141.7875</td>\n",
       "      <td>191.6625</td>\n",
       "      <td>9</td>\n",
       "      <td>7</td>\n",
       "      <td>13</td>\n",
       "      <td>12</td>\n",
       "      <td>15.0</td>\n",
       "      <td>NaN</td>\n",
       "      <td>NaN</td>\n",
       "      <td>NaN</td>\n",
       "      <td>NaN</td>\n",
       "      <td>NaN</td>\n",
       "      <td>NaN</td>\n",
       "      <td>NaN</td>\n",
       "      <td>NaN</td>\n",
       "      <td>NaN</td>\n",
       "    </tr>\n",
       "    <tr>\n",
       "      <th>150149</th>\n",
       "      <td>234.4125</td>\n",
       "      <td>234.4125</td>\n",
       "      <td>9</td>\n",
       "      <td>7</td>\n",
       "      <td>13</td>\n",
       "      <td>15</td>\n",
       "      <td>NaN</td>\n",
       "      <td>NaN</td>\n",
       "      <td>NaN</td>\n",
       "      <td>NaN</td>\n",
       "      <td>NaN</td>\n",
       "      <td>NaN</td>\n",
       "      <td>NaN</td>\n",
       "      <td>NaN</td>\n",
       "      <td>NaN</td>\n",
       "      <td>NaN</td>\n",
       "    </tr>\n",
       "  </tbody>\n",
       "</table>\n",
       "<p>150149 rows × 16 columns</p>\n",
       "</div>"
      ],
      "text/plain": [
       "        total_price  base_price  day  month  year  demand  day_1  day_2  \\\n",
       "0           99.0375    111.8625   17      1    11      20   28.0   19.0   \n",
       "1           99.0375     99.0375   17      1    11      28   19.0   44.0   \n",
       "2          133.9500    133.9500   17      1    11      19   44.0   52.0   \n",
       "3          133.9500    133.9500   17      1    11      44   52.0   18.0   \n",
       "4          141.0750    141.0750   17      1    11      52   18.0   47.0   \n",
       "...             ...         ...  ...    ...   ...     ...    ...    ...   \n",
       "150145     235.8375    235.8375    9      7    13      38   30.0   31.0   \n",
       "150146     235.8375    235.8375    9      7    13      30   31.0   12.0   \n",
       "150147     357.6750    483.7875    9      7    13      31   12.0   15.0   \n",
       "150148     141.7875    191.6625    9      7    13      12   15.0    NaN   \n",
       "150149     234.4125    234.4125    9      7    13      15    NaN    NaN   \n",
       "\n",
       "        day_3  day_4  day_5  day_6  day_7  day_8  day_9  day_10  \n",
       "0        44.0   52.0   18.0   47.0   50.0   82.0   99.0   120.0  \n",
       "1        52.0   18.0   47.0   50.0   82.0   99.0  120.0    40.0  \n",
       "2        18.0   47.0   50.0   82.0   99.0  120.0   40.0    68.0  \n",
       "3        47.0   50.0   82.0   99.0  120.0   40.0   68.0    87.0  \n",
       "4        50.0   82.0   99.0  120.0   40.0   68.0   87.0   186.0  \n",
       "...       ...    ...    ...    ...    ...    ...    ...     ...  \n",
       "150145   12.0   15.0    NaN    NaN    NaN    NaN    NaN     NaN  \n",
       "150146   15.0    NaN    NaN    NaN    NaN    NaN    NaN     NaN  \n",
       "150147    NaN    NaN    NaN    NaN    NaN    NaN    NaN     NaN  \n",
       "150148    NaN    NaN    NaN    NaN    NaN    NaN    NaN     NaN  \n",
       "150149    NaN    NaN    NaN    NaN    NaN    NaN    NaN     NaN  \n",
       "\n",
       "[150149 rows x 16 columns]"
      ]
     },
     "execution_count": 155,
     "metadata": {},
     "output_type": "execute_result"
    }
   ],
   "source": [
    "data"
   ]
  },
  {
   "cell_type": "code",
   "execution_count": 156,
   "id": "0e404502",
   "metadata": {},
   "outputs": [],
   "source": [
    " data = data.dropna()"
   ]
  },
  {
   "cell_type": "markdown",
   "id": "45d025a8",
   "metadata": {},
   "source": [
    "# Data Visualization"
   ]
  },
  {
   "cell_type": "code",
   "execution_count": 157,
   "id": "47a19284",
   "metadata": {},
   "outputs": [
    {
     "name": "stderr",
     "output_type": "stream",
     "text": [
      "No handles with labels found to put in legend.\n"
     ]
    },
    {
     "data": {
      "image/png": "[encoded data removed]",
      "text/plain": [
       "<Figure size 864x576 with 1 Axes>"
      ]
     },
     "metadata": {
      "needs_background": "light"
     },
     "output_type": "display_data"
    }
   ],
   "source": [
    "plt.figure(figsize=(12,8))\n",
    "sns.scatterplot(x='total_price',y='demand',data=data)\n",
    "plt.xlabel('Total Price')\n",
    "plt.ylabel('Actual Demand')\n",
    "plt.legend()\n",
    "plt.show()"
   ]
  },
  {
   "cell_type": "code",
   "execution_count": 158,
   "id": "1aa00032",
   "metadata": {},
   "outputs": [
    {
     "name": "stderr",
     "output_type": "stream",
     "text": [
      "No handles with labels found to put in legend.\n"
     ]
    },
    {
     "data": {
      "image/png": "[encoded data removed]",
      "text/plain": [
       "<Figure size 864x576 with 1 Axes>"
      ]
     },
     "metadata": {
      "needs_background": "light"
     },
     "output_type": "display_data"
    }
   ],
   "source": [
    "plt.figure(figsize=(12,8))\n",
    "sns.scatterplot(x='base_price',y='demand',data=data)\n",
    "plt.xlabel('Base Price')\n",
    "plt.ylabel('Actual Demand')\n",
    "plt.legend()\n",
    "plt.show()"
   ]
  },
  {
   "cell_type": "code",
   "execution_count": 159,
   "id": "d8848723",
   "metadata": {},
   "outputs": [
    {
     "name": "stderr",
     "output_type": "stream",
     "text": [
      "No handles with labels found to put in legend.\n"
     ]
    },
    {
     "data": {
      "image/png": "[encoded data removed]",
      "text/plain": [
       "<Figure size 864x576 with 2 Axes>"
      ]
     },
     "metadata": {
      "needs_background": "light"
     },
     "output_type": "display_data"
    }
   ],
   "source": [
    "plt.figure(figsize=(12,8))\n",
    "sns.heatmap(data=data.corr())\n",
    "plt.legend()\n",
    "plt.show()"
   ]
  },
  {
   "cell_type": "code",
   "execution_count": 160,
   "id": "010eca98",
   "metadata": {},
   "outputs": [],
   "source": [
    "X = data.drop(['demand'],axis=1)\n",
    "y = data['demand']"
   ]
  },
  {
   "cell_type": "code",
   "execution_count": 161,
   "id": "2a0d8ec0",
   "metadata": {},
   "outputs": [],
   "source": [
    "X = np.asarray(X).astype(np.float32)\n",
    "y = np.asarray(y).astype(np.float32)"
   ]
  },
  {
   "cell_type": "markdown",
   "id": "1967e6c4",
   "metadata": {},
   "source": [
    "# Train -Test Split"
   ]
  },
  {
   "cell_type": "code",
   "execution_count": 162,
   "id": "cfd3c0b4",
   "metadata": {},
   "outputs": [],
   "source": [
    "from sklearn.model_selection import train_test_split\n",
    "X_train, X_cv, y_train, y_cv = train_test_split( X, y, test_size=0.05, random_state=100)\n"
   ]
  },
  {
   "cell_type": "code",
   "execution_count": 163,
   "id": "8ebdafbd",
   "metadata": {},
   "outputs": [
    {
     "data": {
      "image/png": "[encoded data removed]",
      "text/plain": [
       "<Figure size 864x576 with 1 Axes>"
      ]
     },
     "metadata": {
      "needs_background": "light"
     },
     "output_type": "display_data"
    }
   ],
   "source": [
    "plt.figure(figsize=(12,8))\n",
    "plt.plot(y_cv, label='Actual Demand')\n",
    "plt.legend()\n",
    "plt.show()"
   ]
  },
  {
   "cell_type": "code",
   "execution_count": 164,
   "id": "6c3aa82c",
   "metadata": {},
   "outputs": [],
   "source": [
    "from sklearn.preprocessing import StandardScaler\n",
    "scaler = StandardScaler()\n"
   ]
  },
  {
   "cell_type": "code",
   "execution_count": 165,
   "id": "ac8f92d9",
   "metadata": {},
   "outputs": [
    {
     "data": {
      "text/plain": [
       "array([[ 1.6357615 ,  2.057069  ,  1.3796641 , ..., -0.625589  ,\n",
       "        -0.29330093, -0.6098536 ],\n",
       "       [-0.35184568,  0.07123785,  1.3796641 , ...,  0.53604823,\n",
       "         0.26902625, 12.853186  ],\n",
       "       [ 0.03463349, -0.08300152, -1.0149249 , ...,  0.50285864,\n",
       "         0.12017493, -0.0779805 ],\n",
       "       ...,\n",
       "       [-0.6417051 , -0.12798801, -1.6990932 , ...,  0.7185912 ,\n",
       "        -0.04521541,  0.80293447],\n",
       "       [-1.338748  , -1.2012364 ,  0.3534116 , ...,  0.17096226,\n",
       "        -0.6240816 , -0.09460154],\n",
       "       [-0.855649  , -0.7770784 , -1.242981  , ..., -0.07795999,\n",
       "        -0.6571597 , -0.84254813]], dtype=float32)"
      ]
     },
     "execution_count": 165,
     "metadata": {},
     "output_type": "execute_result"
    }
   ],
   "source": [
    "scaler.fit_transform(X_train)"
   ]
  },
  {
   "cell_type": "code",
   "execution_count": 166,
   "id": "73188654",
   "metadata": {},
   "outputs": [
    {
     "data": {
      "text/plain": [
       "array([[-0.47898796, -0.37805066, -0.6583922 , ..., -0.6120595 ,\n",
       "        -0.48163822, -0.6118959 ],\n",
       "       [ 0.2632109 ,  0.12755254,  0.3735991 , ...,  0.09689186,\n",
       "         1.5126175 ,  0.58382964],\n",
       "       [ 0.28363836,  0.14651263, -0.4290608 , ..., -0.5276605 ,\n",
       "         0.20728649, -0.26792005],\n",
       "       ...,\n",
       "       [-0.89434695, -0.9468543 ,  0.71759623, ..., -0.7977372 ,\n",
       "        -0.84423023, -0.6118959 ],\n",
       "       [ 0.14064585,  0.01379171, -1.5757178 , ..., -0.4939009 ,\n",
       "        -0.11904628, -0.23516044],\n",
       "       [ 0.692188  ,  0.52571493, -0.4290608 , ..., -0.2575838 ,\n",
       "         0.5336192 , -0.23516044]], dtype=float32)"
      ]
     },
     "execution_count": 166,
     "metadata": {},
     "output_type": "execute_result"
    }
   ],
   "source": [
    "scaler.fit_transform(X_cv)"
   ]
  },
  {
   "cell_type": "markdown",
   "id": "76bcc541",
   "metadata": {},
   "source": [
    "# Neural Network Model"
   ]
  },
  {
   "cell_type": "code",
   "execution_count": 167,
   "id": "3c895623",
   "metadata": {},
   "outputs": [],
   "source": [
    "from tensorflow.keras.models import Sequential\n",
    "from tensorflow.keras.layers import Dense\n",
    "from tensorflow.keras.layers import Dropout\n"
   ]
  },
  {
   "cell_type": "code",
   "execution_count": 168,
   "id": "f6e3bc1a",
   "metadata": {},
   "outputs": [],
   "source": [
    "model = Sequential()\n",
    "\n",
    "model.add(Dense(15,activation='relu'))\n",
    "model.add(Dropout(0.15))\n",
    "model.add(Dense(15,activation='relu'))\n",
    "model.add(Dropout(0.15))\n",
    "model.add(Dense(15,activation='relu'))\n",
    "model.add(Dropout(0.15))\n",
    "model.add(Dense(15,activation='relu'))\n",
    "model.add(Dropout(0.15))\n",
    "model.add(Dense(15,activation='relu'))\n",
    "\n",
    "\n",
    "\n",
    "model.add(Dense(1))\n",
    "\n",
    "model.compile(optimizer='adam',loss='mse')\n"
   ]
  },
  {
   "cell_type": "code",
   "execution_count": 169,
   "id": "679d8936",
   "metadata": {},
   "outputs": [
    {
     "name": "stdout",
     "output_type": "stream",
     "text": [
      "Epoch 1/250\n",
      "1115/1115 [==============================] - 1s 1ms/step - loss: 3520.7720 - val_loss: 3137.4128\n",
      "Epoch 2/250\n",
      "1115/1115 [==============================] - 1s 1ms/step - loss: 2934.0076 - val_loss: 2645.0593\n",
      "Epoch 3/250\n",
      "1115/1115 [==============================] - 1s 1ms/step - loss: 2709.2378 - val_loss: 2683.7610\n",
      "Epoch 4/250\n",
      "1115/1115 [==============================] - 1s 1ms/step - loss: 2631.3933 - val_loss: 2542.2473\n",
      "Epoch 5/250\n",
      "1115/1115 [==============================] - 1s 1ms/step - loss: 2583.4028 - val_loss: 2643.5166\n",
      "Epoch 6/250\n",
      "1115/1115 [==============================] - 1s 1ms/step - loss: 2548.4275 - val_loss: 2631.8684\n",
      "Epoch 7/250\n",
      "1115/1115 [==============================] - 1s 1ms/step - loss: 2513.2817 - val_loss: 2436.2827\n",
      "Epoch 8/250\n",
      "1115/1115 [==============================] - 1s 1ms/step - loss: 2529.5312 - val_loss: 2715.4995\n",
      "Epoch 9/250\n",
      "1115/1115 [==============================] - 1s 1ms/step - loss: 2496.7336 - val_loss: 2613.4092\n",
      "Epoch 10/250\n",
      "1115/1115 [==============================] - 1s 1ms/step - loss: 2486.3167 - val_loss: 2508.7617\n",
      "Epoch 11/250\n",
      "1115/1115 [==============================] - 1s 1ms/step - loss: 2465.2188 - val_loss: 2493.7263\n",
      "Epoch 12/250\n",
      "1115/1115 [==============================] - 1s 1ms/step - loss: 2463.5972 - val_loss: 2605.1643\n",
      "Epoch 13/250\n",
      "1115/1115 [==============================] - 1s 1ms/step - loss: 2458.7031 - val_loss: 2517.1624\n",
      "Epoch 14/250\n",
      "1115/1115 [==============================] - 1s 1ms/step - loss: 2418.5681 - val_loss: 2547.3645\n",
      "Epoch 15/250\n",
      "1115/1115 [==============================] - 1s 1ms/step - loss: 2419.2727 - val_loss: 2368.9404\n",
      "Epoch 16/250\n",
      "1115/1115 [==============================] - 1s 1ms/step - loss: 2427.0259 - val_loss: 2559.6719\n",
      "Epoch 17/250\n",
      "1115/1115 [==============================] - 1s 1ms/step - loss: 2407.6536 - val_loss: 2516.3948\n",
      "Epoch 18/250\n",
      "1115/1115 [==============================] - 1s 1ms/step - loss: 2428.1272 - val_loss: 2720.2378\n",
      "Epoch 19/250\n",
      "1115/1115 [==============================] - 1s 1ms/step - loss: 2408.9902 - val_loss: 2449.5959\n",
      "Epoch 20/250\n",
      "1115/1115 [==============================] - 1s 1ms/step - loss: 2418.4001 - val_loss: 2518.4631\n",
      "Epoch 21/250\n",
      "1115/1115 [==============================] - 1s 1ms/step - loss: 2391.4814 - val_loss: 2524.4458\n",
      "Epoch 22/250\n",
      "1115/1115 [==============================] - 1s 1ms/step - loss: 2389.2778 - val_loss: 2443.2148\n",
      "Epoch 23/250\n",
      "1115/1115 [==============================] - 1s 1ms/step - loss: 2402.0752 - val_loss: 2479.4915\n",
      "Epoch 24/250\n",
      "1115/1115 [==============================] - 1s 1ms/step - loss: 2365.5979 - val_loss: 2571.5984\n",
      "Epoch 25/250\n",
      "1115/1115 [==============================] - 1s 1ms/step - loss: 2381.9707 - val_loss: 2503.0864\n",
      "Epoch 26/250\n",
      "1115/1115 [==============================] - 1s 1ms/step - loss: 2334.3313 - val_loss: 2391.4036\n",
      "Epoch 27/250\n",
      "1115/1115 [==============================] - 1s 1ms/step - loss: 2367.0332 - val_loss: 2430.1968\n",
      "Epoch 28/250\n",
      "1115/1115 [==============================] - 1s 1ms/step - loss: 2345.8796 - val_loss: 2465.0811\n",
      "Epoch 29/250\n",
      "1115/1115 [==============================] - 1s 1ms/step - loss: 2352.1687 - val_loss: 2541.5034\n",
      "Epoch 30/250\n",
      "1115/1115 [==============================] - 1s 1ms/step - loss: 2333.8899 - val_loss: 2427.3901\n",
      "Epoch 31/250\n",
      "1115/1115 [==============================] - 1s 1ms/step - loss: 2342.4648 - val_loss: 2279.6475\n",
      "Epoch 32/250\n",
      "1115/1115 [==============================] - 1s 1ms/step - loss: 2301.5759 - val_loss: 2427.1646\n",
      "Epoch 33/250\n",
      "1115/1115 [==============================] - 1s 1ms/step - loss: 2312.8262 - val_loss: 2500.9868\n",
      "Epoch 34/250\n",
      "1115/1115 [==============================] - 1s 1ms/step - loss: 2325.9363 - val_loss: 2279.5332\n",
      "Epoch 35/250\n",
      "1115/1115 [==============================] - 1s 1ms/step - loss: 2307.5776 - val_loss: 2512.6814\n",
      "Epoch 36/250\n",
      "1115/1115 [==============================] - 1s 1ms/step - loss: 2306.2554 - val_loss: 2460.1704\n",
      "Epoch 37/250\n",
      "1115/1115 [==============================] - 1s 1ms/step - loss: 2274.4070 - val_loss: 2204.6414\n",
      "Epoch 38/250\n",
      "1115/1115 [==============================] - 1s 1ms/step - loss: 2294.7410 - val_loss: 2406.0691\n",
      "Epoch 39/250\n",
      "1115/1115 [==============================] - 1s 1ms/step - loss: 2284.9480 - val_loss: 2428.9878\n",
      "Epoch 40/250\n",
      "1115/1115 [==============================] - 1s 1ms/step - loss: 2274.5139 - val_loss: 2465.3523\n",
      "Epoch 41/250\n",
      "1115/1115 [==============================] - 1s 1ms/step - loss: 2272.6030 - val_loss: 2321.3665\n",
      "Epoch 42/250\n",
      "1115/1115 [==============================] - 1s 1ms/step - loss: 2282.4648 - val_loss: 2426.7434\n",
      "Epoch 43/250\n",
      "1115/1115 [==============================] - 1s 1ms/step - loss: 2240.2532 - val_loss: 2459.7874\n",
      "Epoch 44/250\n",
      "1115/1115 [==============================] - 1s 1ms/step - loss: 2278.8789 - val_loss: 2588.0967\n",
      "Epoch 45/250\n",
      "1115/1115 [==============================] - 1s 1ms/step - loss: 2284.6399 - val_loss: 2423.4487\n",
      "Epoch 46/250\n",
      "1115/1115 [==============================] - 1s 1ms/step - loss: 2265.1724 - val_loss: 2522.2585\n",
      "Epoch 47/250\n",
      "1115/1115 [==============================] - 1s 1ms/step - loss: 2270.2976 - val_loss: 2417.5239\n",
      "Epoch 48/250\n",
      "1115/1115 [==============================] - 1s 1ms/step - loss: 2267.5874 - val_loss: 2479.9102\n",
      "Epoch 49/250\n",
      "1115/1115 [==============================] - 1s 1ms/step - loss: 2249.3892 - val_loss: 2447.7441\n",
      "Epoch 50/250\n",
      "1115/1115 [==============================] - 1s 1ms/step - loss: 2249.2922 - val_loss: 2411.2053\n",
      "Epoch 51/250\n",
      "1115/1115 [==============================] - 1s 1ms/step - loss: 2213.3130 - val_loss: 2509.4543\n",
      "Epoch 52/250\n",
      "1115/1115 [==============================] - 1s 1ms/step - loss: 2244.4814 - val_loss: 2289.5750\n",
      "Epoch 53/250\n",
      "1115/1115 [==============================] - 1s 1ms/step - loss: 2260.8447 - val_loss: 2409.1072\n",
      "Epoch 54/250\n",
      "1115/1115 [==============================] - 1s 1ms/step - loss: 2234.1851 - val_loss: 2371.1335\n",
      "Epoch 55/250\n",
      "1115/1115 [==============================] - 1s 1ms/step - loss: 2256.4131 - val_loss: 2314.1743\n",
      "Epoch 56/250\n",
      "1115/1115 [==============================] - 1s 1ms/step - loss: 2238.8701 - val_loss: 2304.9966\n",
      "Epoch 57/250\n",
      "1115/1115 [==============================] - 1s 1ms/step - loss: 2231.8120 - val_loss: 2466.1133\n",
      "Epoch 58/250\n",
      "1115/1115 [==============================] - 1s 1ms/step - loss: 2234.0066 - val_loss: 2491.0066\n",
      "Epoch 59/250\n",
      "1115/1115 [==============================] - 1s 1ms/step - loss: 2223.0046 - val_loss: 2473.5176\n",
      "Epoch 60/250\n",
      "1115/1115 [==============================] - 1s 1ms/step - loss: 2264.9111 - val_loss: 2321.1780\n",
      "Epoch 61/250\n",
      "1115/1115 [==============================] - 1s 1ms/step - loss: 2231.2097 - val_loss: 2272.2810\n",
      "Epoch 62/250\n",
      "1115/1115 [==============================] - 1s 1ms/step - loss: 2238.6479 - val_loss: 2286.3481\n",
      "Epoch 63/250\n",
      "1115/1115 [==============================] - 1s 1ms/step - loss: 2245.7400 - val_loss: 2601.6252\n",
      "Epoch 64/250\n",
      "1115/1115 [==============================] - 1s 1ms/step - loss: 2221.5867 - val_loss: 2540.5510\n",
      "Epoch 65/250\n",
      "1115/1115 [==============================] - 1s 1ms/step - loss: 2230.1709 - val_loss: 2532.8274\n",
      "Epoch 66/250\n",
      "1115/1115 [==============================] - 1s 1ms/step - loss: 2202.6516 - val_loss: 2370.5376\n",
      "Epoch 67/250\n",
      "1115/1115 [==============================] - 1s 1ms/step - loss: 2236.8318 - val_loss: 2324.9614\n",
      "Epoch 68/250\n",
      "1115/1115 [==============================] - 1s 1ms/step - loss: 2238.5422 - val_loss: 2387.2295\n",
      "Epoch 69/250\n",
      "1115/1115 [==============================] - 1s 1ms/step - loss: 2217.4290 - val_loss: 2385.6604\n",
      "Epoch 70/250\n",
      "1115/1115 [==============================] - 1s 1ms/step - loss: 2233.4424 - val_loss: 2294.3816\n",
      "Epoch 71/250\n",
      "1115/1115 [==============================] - 1s 1ms/step - loss: 2207.9729 - val_loss: 2230.0669\n",
      "Epoch 72/250\n",
      "1115/1115 [==============================] - 1s 1ms/step - loss: 2185.5522 - val_loss: 2419.6907\n",
      "Epoch 73/250\n",
      "1115/1115 [==============================] - 1s 1ms/step - loss: 2194.1499 - val_loss: 2361.1741\n",
      "Epoch 74/250\n",
      "1115/1115 [==============================] - 1s 1ms/step - loss: 2216.8367 - val_loss: 2561.2300\n",
      "Epoch 75/250\n"
     ]
    },
    {
     "name": "stdout",
     "output_type": "stream",
     "text": [
      "1115/1115 [==============================] - 1s 1ms/step - loss: 2230.3535 - val_loss: 2370.7559\n",
      "Epoch 76/250\n",
      "1115/1115 [==============================] - 1s 1ms/step - loss: 2215.2080 - val_loss: 2216.6360\n",
      "Epoch 77/250\n",
      "1115/1115 [==============================] - 1s 1ms/step - loss: 2198.5889 - val_loss: 2463.4177\n",
      "Epoch 78/250\n",
      "1115/1115 [==============================] - 1s 1ms/step - loss: 2169.7043 - val_loss: 2305.8528\n",
      "Epoch 79/250\n",
      "1115/1115 [==============================] - 1s 1ms/step - loss: 2191.1179 - val_loss: 2225.7390\n",
      "Epoch 80/250\n",
      "1115/1115 [==============================] - 1s 991us/step - loss: 2186.7827 - val_loss: 2400.5454\n",
      "Epoch 81/250\n",
      "1115/1115 [==============================] - 1s 1ms/step - loss: 2195.5564 - val_loss: 2481.7390\n",
      "Epoch 82/250\n",
      "1115/1115 [==============================] - 1s 1ms/step - loss: 2184.7656 - val_loss: 2504.0042\n",
      "Epoch 83/250\n",
      "1115/1115 [==============================] - ETA: 0s - loss: 2226.77 - 1s 991us/step - loss: 2223.7747 - val_loss: 2311.2847\n",
      "Epoch 84/250\n",
      "1115/1115 [==============================] - 2s 1ms/step - loss: 2226.6826 - val_loss: 2528.2019\n",
      "Epoch 85/250\n",
      "1115/1115 [==============================] - 1s 1ms/step - loss: 2166.7754 - val_loss: 2458.5151\n",
      "Epoch 86/250\n",
      "1115/1115 [==============================] - 1s 1ms/step - loss: 2196.9810 - val_loss: 2371.4724\n",
      "Epoch 87/250\n",
      "1115/1115 [==============================] - 1s 1ms/step - loss: 2220.2839 - val_loss: 2604.3325\n",
      "Epoch 88/250\n",
      "1115/1115 [==============================] - 1s 1ms/step - loss: 2190.6118 - val_loss: 2500.7874\n",
      "Epoch 89/250\n",
      "1115/1115 [==============================] - 1s 1ms/step - loss: 2193.8877 - val_loss: 2402.8208\n",
      "Epoch 90/250\n",
      "1115/1115 [==============================] - 1s 1ms/step - loss: 2186.2654 - val_loss: 2407.9258\n",
      "Epoch 91/250\n",
      "1115/1115 [==============================] - 1s 1ms/step - loss: 2201.6426 - val_loss: 2283.1990\n",
      "Epoch 92/250\n",
      "1115/1115 [==============================] - 1s 1ms/step - loss: 2243.3960 - val_loss: 2409.6812\n",
      "Epoch 93/250\n",
      "1115/1115 [==============================] - 1s 1ms/step - loss: 2157.8938 - val_loss: 2273.0020\n",
      "Epoch 94/250\n",
      "1115/1115 [==============================] - 1s 1ms/step - loss: 2307.7744 - val_loss: 2416.9307\n",
      "Epoch 95/250\n",
      "1115/1115 [==============================] - 1s 1ms/step - loss: 2167.2632 - val_loss: 2303.3450\n",
      "Epoch 96/250\n",
      "1115/1115 [==============================] - 1s 1ms/step - loss: 2171.2627 - val_loss: 2472.4182\n",
      "Epoch 97/250\n",
      "1115/1115 [==============================] - 1s 1ms/step - loss: 2201.0498 - val_loss: 2368.9609\n",
      "Epoch 98/250\n",
      "1115/1115 [==============================] - 1s 1ms/step - loss: 2193.8228 - val_loss: 2491.3821\n",
      "Epoch 99/250\n",
      "1115/1115 [==============================] - 1s 1ms/step - loss: 2154.0332 - val_loss: 2503.7776\n",
      "Epoch 100/250\n",
      "1115/1115 [==============================] - 1s 1ms/step - loss: 2177.4436 - val_loss: 2358.1030\n",
      "Epoch 101/250\n",
      "1115/1115 [==============================] - 1s 1ms/step - loss: 2211.8079 - val_loss: 2467.5383\n",
      "Epoch 102/250\n",
      "1115/1115 [==============================] - 1s 1ms/step - loss: 2148.6121 - val_loss: 2208.9695\n",
      "Epoch 103/250\n",
      "1115/1115 [==============================] - 1s 1ms/step - loss: 2175.7104 - val_loss: 2407.6506\n",
      "Epoch 104/250\n",
      "1115/1115 [==============================] - 1s 1ms/step - loss: 2154.8799 - val_loss: 2244.6431\n",
      "Epoch 105/250\n",
      "1115/1115 [==============================] - 1s 1ms/step - loss: 2164.3577 - val_loss: 2747.2524\n",
      "Epoch 106/250\n",
      "1115/1115 [==============================] - 1s 1ms/step - loss: 2149.4236 - val_loss: 2468.2959\n",
      "Epoch 107/250\n",
      "1115/1115 [==============================] - 1s 1ms/step - loss: 2183.0916 - val_loss: 2413.8667\n",
      "Epoch 108/250\n",
      "1115/1115 [==============================] - 1s 1ms/step - loss: 2193.3032 - val_loss: 2433.7935\n",
      "Epoch 109/250\n",
      "1115/1115 [==============================] - 1s 1ms/step - loss: 2159.4863 - val_loss: 2386.7280\n",
      "Epoch 110/250\n",
      "1115/1115 [==============================] - 1s 1ms/step - loss: 2191.8818 - val_loss: 2402.2400\n",
      "Epoch 111/250\n",
      "1115/1115 [==============================] - 1s 1ms/step - loss: 2139.4792 - val_loss: 2366.3733\n",
      "Epoch 112/250\n",
      "1115/1115 [==============================] - 1s 1ms/step - loss: 2135.8452 - val_loss: 2264.1018\n",
      "Epoch 113/250\n",
      "1115/1115 [==============================] - 1s 1ms/step - loss: 2183.2815 - val_loss: 2411.4424\n",
      "Epoch 114/250\n",
      "1115/1115 [==============================] - 1s 1ms/step - loss: 2168.5957 - val_loss: 2340.8494\n",
      "Epoch 115/250\n",
      "1115/1115 [==============================] - 1s 1ms/step - loss: 2143.3618 - val_loss: 2410.3293\n",
      "Epoch 116/250\n",
      "1115/1115 [==============================] - 1s 1ms/step - loss: 2158.7686 - val_loss: 2326.9790\n",
      "Epoch 117/250\n",
      "1115/1115 [==============================] - 1s 1ms/step - loss: 2200.7815 - val_loss: 2249.2090\n",
      "Epoch 118/250\n",
      "1115/1115 [==============================] - 1s 1ms/step - loss: 2181.9587 - val_loss: 2589.2725\n",
      "Epoch 119/250\n",
      "1115/1115 [==============================] - 1s 1ms/step - loss: 2179.4998 - val_loss: 2432.1523\n",
      "Epoch 120/250\n",
      "1115/1115 [==============================] - 1s 1ms/step - loss: 2199.8452 - val_loss: 2364.7134\n",
      "Epoch 121/250\n",
      "1115/1115 [==============================] - 1s 1ms/step - loss: 2148.7102 - val_loss: 2361.4060\n",
      "Epoch 122/250\n",
      "1115/1115 [==============================] - 1s 1ms/step - loss: 2181.0015 - val_loss: 2317.0449\n",
      "Epoch 123/250\n",
      "1115/1115 [==============================] - 1s 1ms/step - loss: 2168.6340 - val_loss: 2452.5981\n",
      "Epoch 124/250\n",
      "1115/1115 [==============================] - 1s 1ms/step - loss: 2170.2188 - val_loss: 2343.1526\n",
      "Epoch 125/250\n",
      "1115/1115 [==============================] - 1s 1ms/step - loss: 2130.1196 - val_loss: 2349.4094\n",
      "Epoch 126/250\n",
      "1115/1115 [==============================] - 1s 987us/step - loss: 2140.2812 - val_loss: 2277.9688\n",
      "Epoch 127/250\n",
      "1115/1115 [==============================] - 1s 1ms/step - loss: 2154.9673 - val_loss: 2368.4937\n",
      "Epoch 128/250\n",
      "1115/1115 [==============================] - 1s 1ms/step - loss: 2209.4824 - val_loss: 2452.0637\n",
      "Epoch 129/250\n",
      "1115/1115 [==============================] - 1s 1ms/step - loss: 2177.1499 - val_loss: 2286.2458\n",
      "Epoch 130/250\n",
      "1115/1115 [==============================] - 1s 1ms/step - loss: 2195.9417 - val_loss: 2216.9507\n",
      "Epoch 131/250\n",
      "1115/1115 [==============================] - 1s 1ms/step - loss: 2146.3125 - val_loss: 2404.5684\n",
      "Epoch 132/250\n",
      "1115/1115 [==============================] - 1s 1ms/step - loss: 2166.7183 - val_loss: 2408.0896\n",
      "Epoch 133/250\n",
      "1115/1115 [==============================] - 1s 995us/step - loss: 2150.4746 - val_loss: 2320.2776\n",
      "Epoch 134/250\n",
      "1115/1115 [==============================] - 1s 1ms/step - loss: 2163.0881 - val_loss: 2417.9182\n",
      "Epoch 135/250\n",
      "1115/1115 [==============================] - 1s 1ms/step - loss: 2147.4316 - val_loss: 2420.1465\n",
      "Epoch 136/250\n",
      "1115/1115 [==============================] - 1s 1ms/step - loss: 2180.2644 - val_loss: 2414.2627\n",
      "Epoch 137/250\n",
      "1115/1115 [==============================] - 1s 1ms/step - loss: 2130.6667 - val_loss: 2464.7087\n",
      "Epoch 138/250\n",
      "1115/1115 [==============================] - 1s 1ms/step - loss: 2164.5542 - val_loss: 2344.2251\n",
      "Epoch 139/250\n",
      "1115/1115 [==============================] - 1s 995us/step - loss: 2160.1140 - val_loss: 2234.9177\n",
      "Epoch 140/250\n",
      "1115/1115 [==============================] - 1s 1ms/step - loss: 2160.6106 - val_loss: 2347.7146\n",
      "Epoch 141/250\n",
      "1115/1115 [==============================] - 1s 1ms/step - loss: 2162.1357 - val_loss: 2445.5425\n",
      "Epoch 142/250\n",
      "1115/1115 [==============================] - 1s 1ms/step - loss: 2152.1431 - val_loss: 2338.7209\n",
      "Epoch 143/250\n",
      "1115/1115 [==============================] - 1s 1ms/step - loss: 2162.0632 - val_loss: 2251.9009\n",
      "Epoch 144/250\n",
      "1115/1115 [==============================] - 1s 1ms/step - loss: 2171.1301 - val_loss: 2440.6895\n",
      "Epoch 145/250\n",
      "1115/1115 [==============================] - 1s 1ms/step - loss: 2150.6514 - val_loss: 2464.6040\n",
      "Epoch 146/250\n",
      "1115/1115 [==============================] - 1s 1ms/step - loss: 2206.3601 - val_loss: 2470.8032\n",
      "Epoch 147/250\n",
      "1115/1115 [==============================] - 1s 1ms/step - loss: 2133.3911 - val_loss: 2431.8347\n",
      "Epoch 148/250\n",
      "1115/1115 [==============================] - 1s 1ms/step - loss: 2169.7031 - val_loss: 2405.5322\n"
     ]
    },
    {
     "name": "stdout",
     "output_type": "stream",
     "text": [
      "Epoch 149/250\n",
      "1115/1115 [==============================] - 1s 1ms/step - loss: 2164.3494 - val_loss: 2529.4390\n",
      "Epoch 150/250\n",
      "1115/1115 [==============================] - 1s 1ms/step - loss: 2180.6047 - val_loss: 2420.2886\n",
      "Epoch 151/250\n",
      "1115/1115 [==============================] - 1s 996us/step - loss: 2169.9846 - val_loss: 2383.9465\n",
      "Epoch 152/250\n",
      "1115/1115 [==============================] - 1s 986us/step - loss: 2162.0488 - val_loss: 2393.5420\n",
      "Epoch 153/250\n",
      "1115/1115 [==============================] - 1s 1ms/step - loss: 2143.4319 - val_loss: 2294.8259\n",
      "Epoch 154/250\n",
      "1115/1115 [==============================] - 1s 1ms/step - loss: 2141.5430 - val_loss: 2252.2505\n",
      "Epoch 155/250\n",
      "1115/1115 [==============================] - 1s 1ms/step - loss: 2152.1802 - val_loss: 2388.9214\n",
      "Epoch 156/250\n",
      "1115/1115 [==============================] - 1s 1ms/step - loss: 2145.8477 - val_loss: 2377.0913\n",
      "Epoch 157/250\n",
      "1115/1115 [==============================] - 1s 1ms/step - loss: 2137.5176 - val_loss: 2311.9023\n",
      "Epoch 158/250\n",
      "1115/1115 [==============================] - 1s 1ms/step - loss: 2135.6091 - val_loss: 2550.9226\n",
      "Epoch 159/250\n",
      "1115/1115 [==============================] - 1s 1ms/step - loss: 2147.2354 - val_loss: 2410.3574\n",
      "Epoch 160/250\n",
      "1115/1115 [==============================] - 1s 1ms/step - loss: 2139.5718 - val_loss: 2348.1396\n",
      "Epoch 161/250\n",
      "1115/1115 [==============================] - 1s 1ms/step - loss: 2161.0808 - val_loss: 2343.1790\n",
      "Epoch 162/250\n",
      "1115/1115 [==============================] - 1s 1ms/step - loss: 2144.1609 - val_loss: 2291.6216\n",
      "Epoch 163/250\n",
      "1115/1115 [==============================] - 1s 1ms/step - loss: 2159.0828 - val_loss: 2267.6909\n",
      "Epoch 164/250\n",
      "1115/1115 [==============================] - 1s 1ms/step - loss: 2156.9741 - val_loss: 2205.3577\n",
      "Epoch 165/250\n",
      "1115/1115 [==============================] - 1s 1ms/step - loss: 2165.8252 - val_loss: 2262.2576\n",
      "Epoch 166/250\n",
      "1115/1115 [==============================] - 1s 1ms/step - loss: 2132.0083 - val_loss: 2398.7786\n",
      "Epoch 167/250\n",
      "1115/1115 [==============================] - 1s 1ms/step - loss: 2140.7249 - val_loss: 2371.1562\n",
      "Epoch 168/250\n",
      "1115/1115 [==============================] - 1s 1ms/step - loss: 2158.6987 - val_loss: 2406.5823\n",
      "Epoch 169/250\n",
      "1115/1115 [==============================] - 1s 1ms/step - loss: 2150.1072 - val_loss: 2218.1208\n",
      "Epoch 170/250\n",
      "1115/1115 [==============================] - 1s 1ms/step - loss: 2162.7893 - val_loss: 2314.1208\n",
      "Epoch 171/250\n",
      "1115/1115 [==============================] - 1s 1ms/step - loss: 2155.2568 - val_loss: 2374.6943\n",
      "Epoch 172/250\n",
      "1115/1115 [==============================] - 1s 1ms/step - loss: 2174.4353 - val_loss: 2214.8230\n",
      "Epoch 173/250\n",
      "1115/1115 [==============================] - 1s 1ms/step - loss: 2169.1750 - val_loss: 2415.0278\n",
      "Epoch 174/250\n",
      "1115/1115 [==============================] - 1s 1ms/step - loss: 2164.5259 - val_loss: 2369.8069\n",
      "Epoch 175/250\n",
      "1115/1115 [==============================] - 1s 1ms/step - loss: 2164.4719 - val_loss: 2421.0901\n",
      "Epoch 176/250\n",
      "1115/1115 [==============================] - 1s 1ms/step - loss: 2168.1162 - val_loss: 2440.8867\n",
      "Epoch 177/250\n",
      "1115/1115 [==============================] - 1s 1ms/step - loss: 2128.1758 - val_loss: 2280.1340\n",
      "Epoch 178/250\n",
      "1115/1115 [==============================] - 1s 1ms/step - loss: 2168.6521 - val_loss: 2371.1912\n",
      "Epoch 179/250\n",
      "1115/1115 [==============================] - 1s 1ms/step - loss: 2147.6089 - val_loss: 2384.7952\n",
      "Epoch 180/250\n",
      "1115/1115 [==============================] - 1s 1ms/step - loss: 2120.9785 - val_loss: 2605.4746\n",
      "Epoch 181/250\n",
      "1115/1115 [==============================] - 1s 1ms/step - loss: 2128.7830 - val_loss: 2261.8337\n",
      "Epoch 182/250\n",
      "1115/1115 [==============================] - 1s 1ms/step - loss: 2165.9775 - val_loss: 2339.0928\n",
      "Epoch 183/250\n",
      "1115/1115 [==============================] - 1s 959us/step - loss: 2151.0759 - val_loss: 2334.3311\n",
      "Epoch 184/250\n",
      "1115/1115 [==============================] - 1s 1ms/step - loss: 2134.0122 - val_loss: 2359.1267\n",
      "Epoch 185/250\n",
      "1115/1115 [==============================] - 1s 1ms/step - loss: 2128.5398 - val_loss: 2302.3320\n",
      "Epoch 186/250\n",
      "1115/1115 [==============================] - 1s 1ms/step - loss: 2149.3057 - val_loss: 2351.3076\n",
      "Epoch 187/250\n",
      "1115/1115 [==============================] - 1s 1ms/step - loss: 2167.1101 - val_loss: 2276.8291\n",
      "Epoch 188/250\n",
      "1115/1115 [==============================] - ETA: 0s - loss: 2164.84 - 1s 1ms/step - loss: 2157.9221 - val_loss: 2412.0549\n",
      "Epoch 189/250\n",
      "1115/1115 [==============================] - 1s 1ms/step - loss: 2162.5442 - val_loss: 2338.7563\n",
      "Epoch 190/250\n",
      "1115/1115 [==============================] - 1s 1ms/step - loss: 2155.4753 - val_loss: 2329.1646\n",
      "Epoch 191/250\n",
      "1115/1115 [==============================] - 1s 1ms/step - loss: 2116.1726 - val_loss: 2445.7634\n",
      "Epoch 192/250\n",
      "1115/1115 [==============================] - 1s 1ms/step - loss: 2164.5024 - val_loss: 2304.8933\n",
      "Epoch 193/250\n",
      "1115/1115 [==============================] - 1s 1ms/step - loss: 2146.0361 - val_loss: 2527.4341\n",
      "Epoch 194/250\n",
      "1115/1115 [==============================] - 1s 1ms/step - loss: 2140.4690 - val_loss: 2545.6702\n",
      "Epoch 195/250\n",
      "1115/1115 [==============================] - 1s 1ms/step - loss: 2154.8625 - val_loss: 2426.1133\n",
      "Epoch 196/250\n",
      "1115/1115 [==============================] - 1s 1ms/step - loss: 2142.0129 - val_loss: 2406.9988\n",
      "Epoch 197/250\n",
      "1115/1115 [==============================] - 1s 1ms/step - loss: 2135.5940 - val_loss: 2346.1626\n",
      "Epoch 198/250\n",
      "1115/1115 [==============================] - 1s 1ms/step - loss: 2134.0273 - val_loss: 2319.8391\n",
      "Epoch 199/250\n",
      "1115/1115 [==============================] - 1s 1ms/step - loss: 2124.2004 - val_loss: 2182.1287\n",
      "Epoch 200/250\n",
      "1115/1115 [==============================] - 1s 1ms/step - loss: 2137.8618 - val_loss: 2375.2358\n",
      "Epoch 201/250\n",
      "1115/1115 [==============================] - 1s 1ms/step - loss: 2131.1375 - val_loss: 2406.1638\n",
      "Epoch 202/250\n",
      "1115/1115 [==============================] - 1s 1ms/step - loss: 2117.3188 - val_loss: 2426.0500\n",
      "Epoch 203/250\n",
      "1115/1115 [==============================] - 1s 1ms/step - loss: 2126.2524 - val_loss: 2372.6926\n",
      "Epoch 204/250\n",
      "1115/1115 [==============================] - 1s 1ms/step - loss: 2142.6514 - val_loss: 2388.3369\n",
      "Epoch 205/250\n",
      "1115/1115 [==============================] - 1s 1ms/step - loss: 2148.6157 - val_loss: 2318.6187\n",
      "Epoch 206/250\n",
      "1115/1115 [==============================] - 1s 1ms/step - loss: 2130.9329 - val_loss: 2315.6719\n",
      "Epoch 207/250\n",
      "1115/1115 [==============================] - 1s 1ms/step - loss: 2140.6467 - val_loss: 2220.9314\n",
      "Epoch 208/250\n",
      "1115/1115 [==============================] - 1s 1ms/step - loss: 2127.2456 - val_loss: 2407.8491\n",
      "Epoch 209/250\n",
      "1115/1115 [==============================] - 1s 1ms/step - loss: 2138.5193 - val_loss: 2338.6006\n",
      "Epoch 210/250\n",
      "1115/1115 [==============================] - 1s 1ms/step - loss: 2119.8684 - val_loss: 2414.5405\n",
      "Epoch 211/250\n",
      "1115/1115 [==============================] - 1s 1ms/step - loss: 2141.1096 - val_loss: 2195.1235\n",
      "Epoch 212/250\n",
      "1115/1115 [==============================] - 1s 1ms/step - loss: 2122.8223 - val_loss: 2261.3730\n",
      "Epoch 213/250\n",
      "1115/1115 [==============================] - 1s 1ms/step - loss: 2111.1624 - val_loss: 2221.8069\n",
      "Epoch 214/250\n",
      "1115/1115 [==============================] - 1s 1ms/step - loss: 2154.0576 - val_loss: 2376.3818\n",
      "Epoch 215/250\n",
      "1115/1115 [==============================] - 1s 1ms/step - loss: 2151.7458 - val_loss: 2325.9404\n",
      "Epoch 216/250\n",
      "1115/1115 [==============================] - 1s 1ms/step - loss: 2135.5308 - val_loss: 2381.0796\n",
      "Epoch 217/250\n",
      "1115/1115 [==============================] - 1s 1ms/step - loss: 2123.0188 - val_loss: 2437.1699\n",
      "Epoch 218/250\n",
      "1115/1115 [==============================] - 1s 1ms/step - loss: 2120.3762 - val_loss: 2366.6804\n",
      "Epoch 219/250\n",
      "1115/1115 [==============================] - 1s 1ms/step - loss: 2155.5107 - val_loss: 2332.8491\n",
      "Epoch 220/250\n",
      "1115/1115 [==============================] - 1s 1ms/step - loss: 2172.1382 - val_loss: 2279.3740\n",
      "Epoch 221/250\n",
      "1115/1115 [==============================] - 1s 1ms/step - loss: 2117.1143 - val_loss: 2409.7615\n",
      "Epoch 222/250\n"
     ]
    },
    {
     "name": "stdout",
     "output_type": "stream",
     "text": [
      "1115/1115 [==============================] - 1s 1ms/step - loss: 2143.0564 - val_loss: 2501.8728\n",
      "Epoch 223/250\n",
      "1115/1115 [==============================] - 1s 1ms/step - loss: 2147.3757 - val_loss: 2295.3965\n",
      "Epoch 224/250\n",
      "1115/1115 [==============================] - 1s 1ms/step - loss: 2131.3840 - val_loss: 2333.4871\n",
      "Epoch 225/250\n",
      "1115/1115 [==============================] - 1s 1ms/step - loss: 2139.5256 - val_loss: 2264.5752\n",
      "Epoch 226/250\n",
      "1115/1115 [==============================] - 1s 1ms/step - loss: 2151.0671 - val_loss: 2429.0149\n",
      "Epoch 227/250\n",
      "1115/1115 [==============================] - 1s 1ms/step - loss: 2116.6384 - val_loss: 2215.7910\n",
      "Epoch 228/250\n",
      "1115/1115 [==============================] - 1s 1ms/step - loss: 2150.2539 - val_loss: 2269.6790\n",
      "Epoch 229/250\n",
      "1115/1115 [==============================] - 1s 1ms/step - loss: 2139.3850 - val_loss: 2364.9316\n",
      "Epoch 230/250\n",
      "1115/1115 [==============================] - 1s 1ms/step - loss: 2131.1074 - val_loss: 2420.2971\n",
      "Epoch 231/250\n",
      "1115/1115 [==============================] - 1s 1ms/step - loss: 2156.0288 - val_loss: 2342.0718\n",
      "Epoch 232/250\n",
      "1115/1115 [==============================] - 1s 1ms/step - loss: 2127.6179 - val_loss: 2244.0789\n",
      "Epoch 233/250\n",
      "1115/1115 [==============================] - 1s 1ms/step - loss: 2175.7329 - val_loss: 2348.1392\n",
      "Epoch 234/250\n",
      "1115/1115 [==============================] - 1s 1ms/step - loss: 2133.3474 - val_loss: 2408.2534\n",
      "Epoch 235/250\n",
      "1115/1115 [==============================] - 1s 1ms/step - loss: 2128.6379 - val_loss: 2473.8892\n",
      "Epoch 236/250\n",
      "1115/1115 [==============================] - 1s 1ms/step - loss: 2134.0190 - val_loss: 2248.5432\n",
      "Epoch 237/250\n",
      "1115/1115 [==============================] - 1s 1ms/step - loss: 2131.9792 - val_loss: 2551.6550\n",
      "Epoch 238/250\n",
      "1115/1115 [==============================] - 1s 1ms/step - loss: 2144.1362 - val_loss: 2240.4609\n",
      "Epoch 239/250\n",
      "1115/1115 [==============================] - 1s 1ms/step - loss: 2149.9990 - val_loss: 2342.4551\n",
      "Epoch 240/250\n",
      "1115/1115 [==============================] - 1s 1ms/step - loss: 2150.6775 - val_loss: 2306.5923\n",
      "Epoch 241/250\n",
      "1115/1115 [==============================] - 1s 1ms/step - loss: 2131.6907 - val_loss: 2288.1726\n",
      "Epoch 242/250\n",
      "1115/1115 [==============================] - 1s 1ms/step - loss: 2153.9917 - val_loss: 2387.4021\n",
      "Epoch 243/250\n",
      "1115/1115 [==============================] - 1s 1ms/step - loss: 2139.3713 - val_loss: 2218.3042\n",
      "Epoch 244/250\n",
      "1115/1115 [==============================] - 1s 1ms/step - loss: 2143.3362 - val_loss: 2414.2271\n",
      "Epoch 245/250\n",
      "1115/1115 [==============================] - 1s 1ms/step - loss: 2148.6045 - val_loss: 2365.0981\n",
      "Epoch 246/250\n",
      "1115/1115 [==============================] - 1s 1ms/step - loss: 2154.9409 - val_loss: 2346.7734\n",
      "Epoch 247/250\n",
      "1115/1115 [==============================] - 1s 1ms/step - loss: 2110.1990 - val_loss: 2241.6265\n",
      "Epoch 248/250\n",
      "1115/1115 [==============================] - 1s 1ms/step - loss: 2129.5393 - val_loss: 2275.0488\n",
      "Epoch 249/250\n",
      "1115/1115 [==============================] - 1s 1ms/step - loss: 2120.9500 - val_loss: 2332.6399\n",
      "Epoch 250/250\n",
      "1115/1115 [==============================] - 1s 1ms/step - loss: 2150.5979 - val_loss: 2277.0713\n"
     ]
    },
    {
     "data": {
      "text/plain": [
       "<tensorflow.python.keras.callbacks.History at 0x1b1443e2eb0>"
      ]
     },
     "execution_count": 169,
     "metadata": {},
     "output_type": "execute_result"
    }
   ],
   "source": [
    "model.fit(x=X_train,y=y_train,validation_data=(X_cv,y_cv),batch_size=128,epochs=250)"
   ]
  },
  {
   "cell_type": "code",
   "execution_count": 170,
   "id": "2e3408a2",
   "metadata": {},
   "outputs": [],
   "source": [
    "losses = pd.DataFrame(model.history.history)"
   ]
  },
  {
   "cell_type": "code",
   "execution_count": 171,
   "id": "fa50b56d",
   "metadata": {},
   "outputs": [
    {
     "data": {
      "text/plain": [
       "<AxesSubplot:>"
      ]
     },
     "execution_count": 171,
     "metadata": {},
     "output_type": "execute_result"
    },
    {
     "data": {
      "image/png": "[encoded data removed]",
      "text/plain": [
       "<Figure size 432x288 with 1 Axes>"
      ]
     },
     "metadata": {
      "needs_background": "light"
     },
     "output_type": "display_data"
    }
   ],
   "source": [
    "losses.plot()"
   ]
  },
  {
   "cell_type": "markdown",
   "id": "8289087b",
   "metadata": {},
   "source": [
    "# Predictions"
   ]
  },
  {
   "cell_type": "code",
   "execution_count": 172,
   "id": "0fd7e14f",
   "metadata": {},
   "outputs": [],
   "source": [
    "from sklearn.metrics import mean_squared_error,mean_absolute_error\n",
    "predictions_train = model.predict(X_train)\n",
    "predictions_cv = model.predict(X_cv)"
   ]
  },
  {
   "cell_type": "code",
   "execution_count": 173,
   "id": "21733b9f",
   "metadata": {},
   "outputs": [
    {
     "data": {
      "image/png": "[encoded data removed]",
      "text/plain": [
       "<Figure size 864x576 with 1 Axes>"
      ]
     },
     "metadata": {
      "needs_background": "light"
     },
     "output_type": "display_data"
    }
   ],
   "source": [
    "plt.figure(figsize=(12,8))\n",
    "plt.plot(predictions[-200:], label='Predictions')\n",
    "plt.plot(y_cv[-200:], label='Actual Demand')\n",
    "plt.legend()\n",
    "plt.show()"
   ]
  },
  {
   "cell_type": "markdown",
   "id": "ac3fc5ec",
   "metadata": {},
   "source": [
    "# Evaluation using Metrics"
   ]
  },
  {
   "cell_type": "code",
   "execution_count": 174,
   "id": "62481a91",
   "metadata": {},
   "outputs": [
    {
     "data": {
      "text/plain": [
       "26.528719"
      ]
     },
     "execution_count": 174,
     "metadata": {},
     "output_type": "execute_result"
    }
   ],
   "source": [
    "mae_train = mean_absolute_error(y_train,predictions_train)\n",
    "mae_train"
   ]
  },
  {
   "cell_type": "code",
   "execution_count": 175,
   "id": "3a128a92",
   "metadata": {},
   "outputs": [
    {
     "data": {
      "text/plain": [
       "2432.0208"
      ]
     },
     "execution_count": 175,
     "metadata": {},
     "output_type": "execute_result"
    }
   ],
   "source": [
    "mse_train = mean_squared_error(y_train,predictions_train)\n",
    "mse_train"
   ]
  },
  {
   "cell_type": "code",
   "execution_count": 176,
   "id": "fc5cc43f",
   "metadata": {},
   "outputs": [
    {
     "data": {
      "text/plain": [
       "49.31552242401093"
      ]
     },
     "execution_count": 176,
     "metadata": {},
     "output_type": "execute_result"
    }
   ],
   "source": [
    "rmse_train = math.sqrt(mse_train)\n",
    "rmse_train"
   ]
  },
  {
   "cell_type": "code",
   "execution_count": 177,
   "id": "f9c15408",
   "metadata": {},
   "outputs": [
    {
     "data": {
      "text/plain": [
       "24.93765"
      ]
     },
     "execution_count": 177,
     "metadata": {},
     "output_type": "execute_result"
    }
   ],
   "source": [
    "mae_cv = mean_absolute_error(y_cv,predictions_cv)\n",
    "mae"
   ]
  },
  {
   "cell_type": "code",
   "execution_count": 178,
   "id": "58c7864d",
   "metadata": {},
   "outputs": [
    {
     "data": {
      "text/plain": [
       "1609.4462"
      ]
     },
     "execution_count": 178,
     "metadata": {},
     "output_type": "execute_result"
    }
   ],
   "source": [
    "mse_cv = mean_squared_error(y_cv,predictions_cv)\n",
    "mse"
   ]
  },
  {
   "cell_type": "code",
   "execution_count": 179,
   "id": "2c04b2dc",
   "metadata": {},
   "outputs": [
    {
     "data": {
      "text/plain": [
       "47.718665581948905"
      ]
     },
     "execution_count": 179,
     "metadata": {},
     "output_type": "execute_result"
    }
   ],
   "source": [
    "rmse_cv = math.sqrt(mse_cv)\n",
    "rmse_cv"
   ]
  },
  {
   "cell_type": "markdown",
   "id": "aabb00d8",
   "metadata": {},
   "source": [
    "# Thank You!!"
   ]
  }
 ],
 "metadata": {
  "kernelspec": {
   "display_name": "Python 3",
   "language": "python",
   "name": "python3"
  },
  "language_info": {
   "codemirror_mode": {
    "name": "ipython",
    "version": 3
   },
   "file_extension": ".py",
   "mimetype": "text/x-python",
   "name": "python",
   "nbconvert_exporter": "python",
   "pygments_lexer": "ipython3",
   "version": "3.8.8"
  }
 },
 "nbformat": 4,
 "nbformat_minor": 5
}
